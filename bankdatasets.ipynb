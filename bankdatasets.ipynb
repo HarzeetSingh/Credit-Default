{
 "cells": [
  {
   "cell_type": "markdown",
   "metadata": {},
   "source": [
    "# Harjeet Singh"
   ]
  },
  {
   "cell_type": "code",
   "execution_count": 24,
   "metadata": {},
   "outputs": [],
   "source": [
    "import pandas as pd\n",
    "import numpy as np"
   ]
  },
  {
   "cell_type": "code",
   "execution_count": 25,
   "metadata": {},
   "outputs": [
    {
     "data": {
      "text/html": [
       "<div>\n",
       "<style scoped>\n",
       "    .dataframe tbody tr th:only-of-type {\n",
       "        vertical-align: middle;\n",
       "    }\n",
       "\n",
       "    .dataframe tbody tr th {\n",
       "        vertical-align: top;\n",
       "    }\n",
       "\n",
       "    .dataframe thead th {\n",
       "        text-align: right;\n",
       "    }\n",
       "</style>\n",
       "<table border=\"1\" class=\"dataframe\">\n",
       "  <thead>\n",
       "    <tr style=\"text-align: right;\">\n",
       "      <th></th>\n",
       "      <th>age</th>\n",
       "      <th>job</th>\n",
       "      <th>marital</th>\n",
       "      <th>education</th>\n",
       "      <th>default</th>\n",
       "      <th>balance</th>\n",
       "      <th>housing</th>\n",
       "      <th>loan</th>\n",
       "      <th>contact</th>\n",
       "      <th>day</th>\n",
       "      <th>month</th>\n",
       "      <th>duration</th>\n",
       "      <th>campaign</th>\n",
       "      <th>pdays</th>\n",
       "      <th>previous</th>\n",
       "      <th>poutcome</th>\n",
       "      <th>y</th>\n",
       "    </tr>\n",
       "  </thead>\n",
       "  <tbody>\n",
       "    <tr>\n",
       "      <th>0</th>\n",
       "      <td>58</td>\n",
       "      <td>management</td>\n",
       "      <td>married</td>\n",
       "      <td>tertiary</td>\n",
       "      <td>no</td>\n",
       "      <td>2143</td>\n",
       "      <td>yes</td>\n",
       "      <td>no</td>\n",
       "      <td>unknown</td>\n",
       "      <td>5</td>\n",
       "      <td>may</td>\n",
       "      <td>261</td>\n",
       "      <td>1</td>\n",
       "      <td>-1</td>\n",
       "      <td>0</td>\n",
       "      <td>unknown</td>\n",
       "      <td>no</td>\n",
       "    </tr>\n",
       "    <tr>\n",
       "      <th>1</th>\n",
       "      <td>44</td>\n",
       "      <td>technician</td>\n",
       "      <td>single</td>\n",
       "      <td>secondary</td>\n",
       "      <td>no</td>\n",
       "      <td>29</td>\n",
       "      <td>yes</td>\n",
       "      <td>no</td>\n",
       "      <td>unknown</td>\n",
       "      <td>5</td>\n",
       "      <td>may</td>\n",
       "      <td>151</td>\n",
       "      <td>1</td>\n",
       "      <td>-1</td>\n",
       "      <td>0</td>\n",
       "      <td>unknown</td>\n",
       "      <td>no</td>\n",
       "    </tr>\n",
       "    <tr>\n",
       "      <th>2</th>\n",
       "      <td>33</td>\n",
       "      <td>entrepreneur</td>\n",
       "      <td>married</td>\n",
       "      <td>secondary</td>\n",
       "      <td>no</td>\n",
       "      <td>2</td>\n",
       "      <td>yes</td>\n",
       "      <td>yes</td>\n",
       "      <td>unknown</td>\n",
       "      <td>5</td>\n",
       "      <td>may</td>\n",
       "      <td>76</td>\n",
       "      <td>1</td>\n",
       "      <td>-1</td>\n",
       "      <td>0</td>\n",
       "      <td>unknown</td>\n",
       "      <td>no</td>\n",
       "    </tr>\n",
       "    <tr>\n",
       "      <th>3</th>\n",
       "      <td>47</td>\n",
       "      <td>blue-collar</td>\n",
       "      <td>married</td>\n",
       "      <td>unknown</td>\n",
       "      <td>no</td>\n",
       "      <td>1506</td>\n",
       "      <td>yes</td>\n",
       "      <td>no</td>\n",
       "      <td>unknown</td>\n",
       "      <td>5</td>\n",
       "      <td>may</td>\n",
       "      <td>92</td>\n",
       "      <td>1</td>\n",
       "      <td>-1</td>\n",
       "      <td>0</td>\n",
       "      <td>unknown</td>\n",
       "      <td>no</td>\n",
       "    </tr>\n",
       "    <tr>\n",
       "      <th>4</th>\n",
       "      <td>33</td>\n",
       "      <td>unknown</td>\n",
       "      <td>single</td>\n",
       "      <td>unknown</td>\n",
       "      <td>no</td>\n",
       "      <td>1</td>\n",
       "      <td>no</td>\n",
       "      <td>no</td>\n",
       "      <td>unknown</td>\n",
       "      <td>5</td>\n",
       "      <td>may</td>\n",
       "      <td>198</td>\n",
       "      <td>1</td>\n",
       "      <td>-1</td>\n",
       "      <td>0</td>\n",
       "      <td>unknown</td>\n",
       "      <td>no</td>\n",
       "    </tr>\n",
       "  </tbody>\n",
       "</table>\n",
       "</div>"
      ],
      "text/plain": [
       "   age           job  marital  education default  balance housing loan  \\\n",
       "0   58    management  married   tertiary      no     2143     yes   no   \n",
       "1   44    technician   single  secondary      no       29     yes   no   \n",
       "2   33  entrepreneur  married  secondary      no        2     yes  yes   \n",
       "3   47   blue-collar  married    unknown      no     1506     yes   no   \n",
       "4   33       unknown   single    unknown      no        1      no   no   \n",
       "\n",
       "   contact  day month  duration  campaign  pdays  previous poutcome   y  \n",
       "0  unknown    5   may       261         1     -1         0  unknown  no  \n",
       "1  unknown    5   may       151         1     -1         0  unknown  no  \n",
       "2  unknown    5   may        76         1     -1         0  unknown  no  \n",
       "3  unknown    5   may        92         1     -1         0  unknown  no  \n",
       "4  unknown    5   may       198         1     -1         0  unknown  no  "
      ]
     },
     "execution_count": 25,
     "metadata": {},
     "output_type": "execute_result"
    }
   ],
   "source": [
    "bank=pd.read_csv('C:/Users/Administrator/Downloads/bank.csv')\n",
    "bank.head()"
   ]
  },
  {
   "cell_type": "code",
   "execution_count": 26,
   "metadata": {},
   "outputs": [],
   "source": [
    "bank_dummies = pd.get_dummies(bank.drop('y',axis = 1))# dropped the y\n",
    "bank_dummies['y'] = bank['y']"
   ]
  },
  {
   "cell_type": "code",
   "execution_count": 27,
   "metadata": {},
   "outputs": [
    {
     "name": "stdout",
     "output_type": "stream",
     "text": [
      "(31647, 52)\n",
      "(13564, 52)\n"
     ]
    }
   ],
   "source": [
    "from sklearn.model_selection import train_test_split\n",
    "train,test=train_test_split(bank_dummies,random_state=100,test_size=0.3)\n",
    "print(train.shape)\n",
    "print(test.shape)"
   ]
  },
  {
   "cell_type": "code",
   "execution_count": 28,
   "metadata": {},
   "outputs": [
    {
     "name": "stdout",
     "output_type": "stream",
     "text": [
      "(31647, 51)\n",
      "(31647,)\n",
      "(13564, 51)\n",
      "(13564,)\n"
     ]
    }
   ],
   "source": [
    "train_x=train.drop('y',axis=1)\n",
    "train_y=train['y']\n",
    "\n",
    "test_x=test.drop('y',axis=1)\n",
    "test_y=test['y']\n",
    "\n",
    "\n",
    "print(train_x.shape)\n",
    "print(train_y.shape)\n",
    "\n",
    "print(test_x.shape)\n",
    "print(test_y.shape)"
   ]
  },
  {
   "cell_type": "markdown",
   "metadata": {},
   "source": [
    "# DECISION TREE"
   ]
  },
  {
   "cell_type": "code",
   "execution_count": 29,
   "metadata": {},
   "outputs": [
    {
     "data": {
      "text/plain": [
       "DecisionTreeClassifier(class_weight=None, criterion='gini', max_depth=3,\n",
       "            max_features=None, max_leaf_nodes=None,\n",
       "            min_impurity_decrease=0.0, min_impurity_split=None,\n",
       "            min_samples_leaf=1, min_samples_split=2,\n",
       "            min_weight_fraction_leaf=0.0, presort=False, random_state=100,\n",
       "            splitter='best')"
      ]
     },
     "execution_count": 29,
     "metadata": {},
     "output_type": "execute_result"
    }
   ],
   "source": [
    "from sklearn.tree import DecisionTreeClassifier\n",
    "model=DecisionTreeClassifier(random_state=100,max_depth=3)\n",
    "model.fit(train_x,train_y)"
   ]
  },
  {
   "cell_type": "code",
   "execution_count": 30,
   "metadata": {},
   "outputs": [],
   "source": [
    "pred_test=model.predict(test_x)\n",
    "pred_results=pd.DataFrame({'actual':test_y,'predicted':pred_test})"
   ]
  },
  {
   "cell_type": "code",
   "execution_count": 31,
   "metadata": {},
   "outputs": [
    {
     "data": {
      "text/plain": [
       "(468, 11722, 263, 1111)"
      ]
     },
     "execution_count": 31,
     "metadata": {},
     "output_type": "execute_result"
    }
   ],
   "source": [
    "#True Positive(TP)\n",
    "tp_a1=pred_results[(pred_results.predicted=='yes') & (pred_results.actual=='yes')].shape[0]\n",
    "\n",
    "#True Negative(TN)\n",
    "tn_a1=pred_results[(pred_results.predicted=='no') & (pred_results.actual=='no')].shape[0]\n",
    "\n",
    "#False Positive(FP)\n",
    "fp_a1=pred_results[(pred_results.predicted=='yes') & (pred_results.actual=='no')].shape[0]\n",
    "\n",
    "#False Negative(FN)\n",
    "fn_a1=pred_results[(pred_results.predicted=='no') & (pred_results.actual=='yes')].shape[0]\n",
    "\n",
    "\n",
    "tp_a1,tn_a1,fp_a1,fn_a1"
   ]
  },
  {
   "cell_type": "raw",
   "metadata": {},
   "source": [
    "             TN+TP     371                         TP                       TN  \n",
    "accuracy=  --------- = --- = 0.84,  Sensitivity = ---- = 0,  Specificity = ----- = 1\n",
    "          TN+TP+FP+FN  441                        TP+FN                    TN+FP\n",
    "          "
   ]
  },
  {
   "cell_type": "code",
   "execution_count": 32,
   "metadata": {},
   "outputs": [
    {
     "data": {
      "text/plain": [
       "(0.8987024476555588, 0.2963901203293224, 0.9780559032123488)"
      ]
     },
     "execution_count": 32,
     "metadata": {},
     "output_type": "execute_result"
    }
   ],
   "source": [
    "accu_a1=(tn_a1+tp_a1)/(tn_a1+tp_a1+fp_a1+fn_a1)\n",
    "sensi_a1=tp_a1/(tp_a1+fn_a1)\n",
    "speci_a1=tn_a1/(tn_a1+fp_a1)\n",
    "\n",
    "accu_a1,sensi_a1,speci_a1"
   ]
  },
  {
   "cell_type": "markdown",
   "metadata": {},
   "source": [
    " "
   ]
  },
  {
   "cell_type": "code",
   "execution_count": 33,
   "metadata": {},
   "outputs": [
    {
     "name": "stdout",
     "output_type": "stream",
     "text": [
      "True Positive : 468\n",
      "True Negative : 11722\n",
      "False Positive : 263\n",
      "False Negative : 1111\n",
      "Accuracy : 0.8987024476555588\n",
      "Sensitivity : 0.2963901203293224\n",
      "Specificity : 0.9780559032123488\n"
     ]
    }
   ],
   "source": [
    "print('True Positive :',tp_a1)\n",
    "print('True Negative :',tn_a1)\n",
    "print('False Positive :',fp_a1)\n",
    "print('False Negative :',fn_a1)\n",
    "print('Accuracy :',accu_a1)\n",
    "print('Sensitivity :',sensi_a1)\n",
    "print('Specificity :',speci_a1)"
   ]
  },
  {
   "cell_type": "code",
   "execution_count": null,
   "metadata": {},
   "outputs": [],
   "source": []
  },
  {
   "cell_type": "markdown",
   "metadata": {},
   "source": [
    "# RANDOM FOREST"
   ]
  },
  {
   "cell_type": "code",
   "execution_count": null,
   "metadata": {},
   "outputs": [],
   "source": []
  },
  {
   "cell_type": "code",
   "execution_count": 34,
   "metadata": {},
   "outputs": [],
   "source": [
    "from sklearn.ensemble import RandomForestClassifier"
   ]
  },
  {
   "cell_type": "code",
   "execution_count": 35,
   "metadata": {},
   "outputs": [
    {
     "data": {
      "text/plain": [
       "RandomForestClassifier(bootstrap=True, class_weight=None, criterion='gini',\n",
       "            max_depth=None, max_features='auto', max_leaf_nodes=None,\n",
       "            min_impurity_decrease=0.0, min_impurity_split=None,\n",
       "            min_samples_leaf=1, min_samples_split=2,\n",
       "            min_weight_fraction_leaf=0.0, n_estimators=300, n_jobs=1,\n",
       "            oob_score=False, random_state=100, verbose=0, warm_start=False)"
      ]
     },
     "execution_count": 35,
     "metadata": {},
     "output_type": "execute_result"
    }
   ],
   "source": [
    "from sklearn.ensemble import RandomForestClassifier\n",
    "model_rf=RandomForestClassifier(random_state=100,n_estimators=300)\n",
    "model_rf.fit(train_x,train_y)"
   ]
  },
  {
   "cell_type": "code",
   "execution_count": 36,
   "metadata": {},
   "outputs": [],
   "source": [
    "pred_results_rf = model_rf.predict(test_x)\n",
    "pred_results_a2 = pd.DataFrame({'actual': test_y,'predicted': pred_results_rf})"
   ]
  },
  {
   "cell_type": "code",
   "execution_count": 37,
   "metadata": {},
   "outputs": [
    {
     "name": "stdout",
     "output_type": "stream",
     "text": [
      "645\n",
      "11636\n",
      "349\n",
      "934\n"
     ]
    }
   ],
   "source": [
    "#True Positive(TP)\n",
    "tp_a2=pred_results_a2[(pred_results_a2.predicted=='yes') & (pred_results_a2.actual=='yes')].shape[0]\n",
    "print(tp_a2)\n",
    "\n",
    "#True Negative(TN)\n",
    "tn_a2=pred_results_a2[(pred_results_a2.predicted=='no') & (pred_results_a2.actual=='no')].shape[0]\n",
    "print(tn_a2)\n",
    "\n",
    "#False Positive(FP)\n",
    "fp_a2=pred_results_a2[(pred_results_a2.predicted=='yes') & (pred_results_a2.actual=='no')].shape[0]\n",
    "print(fp_a2)\n",
    "\n",
    "#False Negative(FN)\n",
    "fn_a2=pred_results_a2[(pred_results_a2.predicted=='no') & (pred_results_a2.actual=='yes')].shape[0]\n",
    "print(fn_a2)"
   ]
  },
  {
   "cell_type": "raw",
   "metadata": {},
   "source": [
    "             TN+TP     371                         TP                       TN  \n",
    "accuracy=  --------- = --- = 0.84,  Sensitivity = ---- = 0,  Specificity = ----- = 1\n",
    "          TN+TP+FP+FN  441                        TP+FN                    TN+FP\n",
    "          "
   ]
  },
  {
   "cell_type": "code",
   "execution_count": 38,
   "metadata": {},
   "outputs": [
    {
     "data": {
      "text/plain": [
       "(0.9054113830728399, 0.4084863837872071, 0.9708802670004172)"
      ]
     },
     "execution_count": 38,
     "metadata": {},
     "output_type": "execute_result"
    }
   ],
   "source": [
    "accu_a2=(tn_a2+tp_a2)/(tn_a2+tp_a2+fp_a2+fn_a2)\n",
    "\n",
    "sensi_a2=tp_a2/(tp_a2+fn_a2)\n",
    "\n",
    "speci_a2=tn_a2/(tn_a2+fp_a2)\n",
    "accu_a2,sensi_a2,speci_a2"
   ]
  },
  {
   "cell_type": "code",
   "execution_count": 39,
   "metadata": {},
   "outputs": [
    {
     "name": "stdout",
     "output_type": "stream",
     "text": [
      "True Positive : 645\n",
      "True Negative : 11636\n",
      "False Positive : 349\n",
      "False Negative : 934\n",
      "Accuracy : 0.9054113830728399\n",
      "Sensitivity : 0.4084863837872071\n",
      "Specificity : 0.9708802670004172\n"
     ]
    }
   ],
   "source": [
    "print('True Positive :',tp_a2)\n",
    "print('True Negative :',tn_a2)\n",
    "print('False Positive :',fp_a2)\n",
    "print('False Negative :',fn_a2)\n",
    "print('Accuracy :',accu_a2)\n",
    "print('Sensitivity :',sensi_a2)\n",
    "print('Specificity :', speci_a2)"
   ]
  },
  {
   "cell_type": "markdown",
   "metadata": {},
   "source": [
    "# ADA BOOST"
   ]
  },
  {
   "cell_type": "code",
   "execution_count": 40,
   "metadata": {},
   "outputs": [],
   "source": [
    "from sklearn.ensemble import AdaBoostClassifier"
   ]
  },
  {
   "cell_type": "code",
   "execution_count": 41,
   "metadata": {},
   "outputs": [
    {
     "data": {
      "text/plain": [
       "AdaBoostClassifier(algorithm='SAMME.R', base_estimator=None,\n",
       "          learning_rate=1.0, n_estimators=800, random_state=100)"
      ]
     },
     "execution_count": 41,
     "metadata": {},
     "output_type": "execute_result"
    }
   ],
   "source": [
    "model3 = AdaBoostClassifier(random_state=100, n_estimators=800)\n",
    "model3.fit(train_x, train_y)"
   ]
  },
  {
   "cell_type": "code",
   "execution_count": 42,
   "metadata": {},
   "outputs": [],
   "source": [
    "pred_results3 = model3.predict(test_x)\n",
    "pred_results_a3 = pd.DataFrame({'actual': test_y,'predicted': pred_results3})"
   ]
  },
  {
   "cell_type": "code",
   "execution_count": 43,
   "metadata": {},
   "outputs": [
    {
     "name": "stdout",
     "output_type": "stream",
     "text": [
      "614\n",
      "11587\n",
      "398\n",
      "965\n"
     ]
    }
   ],
   "source": [
    "#True Positive(TP)\n",
    "tp_a3=pred_results_a3[(pred_results_a3.predicted=='yes') & (pred_results_a3.actual=='yes')].shape[0]\n",
    "print(tp_a3)\n",
    "\n",
    "#True Negative(TN)\n",
    "tn_a3=pred_results_a3[(pred_results_a3.predicted=='no') & (pred_results_a3.actual=='no')].shape[0]\n",
    "print(tn_a3)\n",
    "\n",
    "#False Positive(FP)\n",
    "fp_a3=pred_results_a3[(pred_results_a3.predicted=='yes') & (pred_results_a3.actual=='no')].shape[0]\n",
    "print(fp_a3)\n",
    "\n",
    "#False Negative(FN)\n",
    "fn_a3=pred_results_a2[(pred_results_a3.predicted=='no') & (pred_results_a3.actual=='yes')].shape[0]\n",
    "print(fn_a3)"
   ]
  },
  {
   "cell_type": "raw",
   "metadata": {},
   "source": [
    "             TN+TP     371                         TP                       TN  \n",
    "accuracy=  --------- = --- = 0.84,  Sensitivity = ---- = 0,  Specificity = ----- = 1\n",
    "          TN+TP+FP+FN  441                        TP+FN                    TN+FP\n",
    "          "
   ]
  },
  {
   "cell_type": "code",
   "execution_count": 44,
   "metadata": {},
   "outputs": [
    {
     "data": {
      "text/plain": [
       "(0.8995134178708346, 0.3888537048765041, 0.9667918231122236)"
      ]
     },
     "execution_count": 44,
     "metadata": {},
     "output_type": "execute_result"
    }
   ],
   "source": [
    "accu_a3=(tn_a3+tp_a3)/(tn_a3+tp_a3+fp_a3+fn_a3)\n",
    "\n",
    "sensi_a3=tp_a3/(tp_a3+fn_a3)\n",
    "\n",
    "speci_a3=tn_a3/(tn_a3+fp_a3)\n",
    "accu_a3,sensi_a3,speci_a3"
   ]
  },
  {
   "cell_type": "code",
   "execution_count": 45,
   "metadata": {},
   "outputs": [
    {
     "name": "stdout",
     "output_type": "stream",
     "text": [
      "True Positive : 614\n",
      "True Negative : 11587\n",
      "False Positive : 398\n",
      "False Negative : 965\n",
      "Accuracy : 0.8995134178708346\n",
      "Sensitivity : 0.3888537048765041\n",
      "Specificity : 0.9667918231122236\n"
     ]
    }
   ],
   "source": [
    "print('True Positive :',tp_a3)\n",
    "print('True Negative :',tn_a3)\n",
    "print('False Positive :',fp_a3)\n",
    "print('False Negative :',fn_a3)\n",
    "print('Accuracy :',accu_a3)\n",
    "print('Sensitivity :',sensi_a3)\n",
    "print('Specificity :', speci_a3)"
   ]
  },
  {
   "cell_type": "markdown",
   "metadata": {},
   "source": [
    "# KNN CLASSIFICATION"
   ]
  },
  {
   "cell_type": "code",
   "execution_count": 46,
   "metadata": {},
   "outputs": [],
   "source": [
    "from sklearn.neighbors import KNeighborsClassifier\n"
   ]
  },
  {
   "cell_type": "code",
   "execution_count": 47,
   "metadata": {},
   "outputs": [
    {
     "data": {
      "text/plain": [
       "KNeighborsClassifier(algorithm='auto', leaf_size=30, metric='minkowski',\n",
       "           metric_params=None, n_jobs=1, n_neighbors=5, p=2,\n",
       "           weights='uniform')"
      ]
     },
     "execution_count": 47,
     "metadata": {},
     "output_type": "execute_result"
    }
   ],
   "source": [
    "model_a4=KNeighborsClassifier(n_neighbors=5)\n",
    "model_a4.fit(train_x,train_y)"
   ]
  },
  {
   "cell_type": "code",
   "execution_count": 48,
   "metadata": {},
   "outputs": [],
   "source": [
    "pred_a4=model_a4.predict(test_x)\n",
    "df_a4=pd.DataFrame({'actual':test_y,'predicted':pred_a4})"
   ]
  },
  {
   "cell_type": "code",
   "execution_count": 49,
   "metadata": {},
   "outputs": [
    {
     "data": {
      "text/plain": [
       "(434, 11510, 475, 1145)"
      ]
     },
     "execution_count": 49,
     "metadata": {},
     "output_type": "execute_result"
    }
   ],
   "source": [
    "#True Positive\n",
    "tp_a4=df_a4[(df_a4.actual=='yes')&(df_a4.predicted=='yes')].shape[0]\n",
    "\n",
    "#True Negaive\n",
    "tn_a4=df_a4[(df_a4.actual=='no')&(df_a4.predicted=='no')].shape[0]\n",
    "\n",
    "#False Positive\n",
    "fp_a4=df_a4[(df_a4.actual=='no')&(df_a4.predicted=='yes')].shape[0]\n",
    "\n",
    "#False Negative\n",
    "fn_a4=df_a4[(df_a4.actual=='yes')&(df_a4.predicted=='no')].shape[0]\n",
    "\n",
    "tp_a4,tn_a4,fp_a4,fn_a4"
   ]
  },
  {
   "cell_type": "raw",
   "metadata": {},
   "source": [
    "             TN+TP     371                         TP                       TN  \n",
    "accuracy=  --------- = --- = 0.84,  Sensitivity = ---- = 0,  Specificity = ----- = 1\n",
    "          TN+TP+FP+FN  441                        TP+FN                    TN+FP\n",
    "          "
   ]
  },
  {
   "cell_type": "code",
   "execution_count": 50,
   "metadata": {},
   "outputs": [
    {
     "data": {
      "text/plain": [
       "(0.8805662046593925, 0.27485750474984166, 0.9603671255736337)"
      ]
     },
     "execution_count": 50,
     "metadata": {},
     "output_type": "execute_result"
    }
   ],
   "source": [
    "accu_a4=(tn_a4+tp_a4)/(tn_a4+tp_a4+fp_a4+fn_a4)\n",
    "sensi_a4=tp_a4/(tp_a4+fn_a4)\n",
    "speci_a4=tn_a4/(tn_a4+fp_a4)\n",
    "\n",
    "accu_a4,sensi_a4,speci_a4"
   ]
  },
  {
   "cell_type": "code",
   "execution_count": 51,
   "metadata": {},
   "outputs": [
    {
     "name": "stdout",
     "output_type": "stream",
     "text": [
      "True Positive : 434\n",
      "True Negative : 11510\n",
      "False Positive : 475\n",
      "False Negative : 1145\n",
      "Accuracy : 0.8805662046593925\n",
      "Sensitivity : 0.27485750474984166\n",
      "Specificity : 0.9603671255736337\n"
     ]
    }
   ],
   "source": [
    "print('True Positive :',tp_a4)\n",
    "print('True Negative :',tn_a4)\n",
    "print('False Positive :',fp_a4)\n",
    "print('False Negative :',fn_a4)\n",
    "print('Accuracy :',accu_a4)\n",
    "print('Sensitivity :',sensi_a4)\n",
    "print('Specificity :', speci_a4)"
   ]
  },
  {
   "cell_type": "code",
   "execution_count": 52,
   "metadata": {},
   "outputs": [],
   "source": [
    "main_df = {'Decision Tree': pd.Series([tp_a1,tn_a1,fp_a1,fn_a1,accu_a1,sensi_a1,speci_a1],index=['TP','TN','FP','FN','Accuracy','Sensitivity','Specificity']),                                      \n",
    "          'Random Forest': pd.Series([tp_a2,tn_a2,fp_a2,fn_a2,accu_a2,sensi_a2,speci_a2],index=['TP','TN','FP','FN','Accuracy','Sensitivity','Specificity']),                                     \n",
    "          'Adaptive Boosting': pd.Series([tp_a3,tn_a3,fp_a3,fn_a3,accu_a3,sensi_a3,speci_a3],index=['TP','TN','FP','FN','Accuracy','Sensitivity','Specificity']),\n",
    "          'KNN Classification': pd.Series([tp_a4,tn_a4,fp_a4,fn_a4,accu_a4,sensi_a4,speci_a4],index=['TP','TN','FP','FN','Accuracy','Sensitivity','Specificity'])}"
   ]
  },
  {
   "cell_type": "code",
   "execution_count": 53,
   "metadata": {},
   "outputs": [
    {
     "data": {
      "text/html": [
       "<div>\n",
       "<style scoped>\n",
       "    .dataframe tbody tr th:only-of-type {\n",
       "        vertical-align: middle;\n",
       "    }\n",
       "\n",
       "    .dataframe tbody tr th {\n",
       "        vertical-align: top;\n",
       "    }\n",
       "\n",
       "    .dataframe thead th {\n",
       "        text-align: right;\n",
       "    }\n",
       "</style>\n",
       "<table border=\"1\" class=\"dataframe\">\n",
       "  <thead>\n",
       "    <tr style=\"text-align: right;\">\n",
       "      <th></th>\n",
       "      <th>Adaptive Boosting</th>\n",
       "      <th>Decision Tree</th>\n",
       "      <th>KNN Classification</th>\n",
       "      <th>Random Forest</th>\n",
       "    </tr>\n",
       "  </thead>\n",
       "  <tbody>\n",
       "    <tr>\n",
       "      <th>TP</th>\n",
       "      <td>614.000000</td>\n",
       "      <td>468.000000</td>\n",
       "      <td>434.000000</td>\n",
       "      <td>645.000000</td>\n",
       "    </tr>\n",
       "    <tr>\n",
       "      <th>TN</th>\n",
       "      <td>11587.000000</td>\n",
       "      <td>11722.000000</td>\n",
       "      <td>11510.000000</td>\n",
       "      <td>11636.000000</td>\n",
       "    </tr>\n",
       "    <tr>\n",
       "      <th>FP</th>\n",
       "      <td>398.000000</td>\n",
       "      <td>263.000000</td>\n",
       "      <td>475.000000</td>\n",
       "      <td>349.000000</td>\n",
       "    </tr>\n",
       "    <tr>\n",
       "      <th>FN</th>\n",
       "      <td>965.000000</td>\n",
       "      <td>1111.000000</td>\n",
       "      <td>1145.000000</td>\n",
       "      <td>934.000000</td>\n",
       "    </tr>\n",
       "    <tr>\n",
       "      <th>Accuracy</th>\n",
       "      <td>0.899513</td>\n",
       "      <td>0.898702</td>\n",
       "      <td>0.880566</td>\n",
       "      <td>0.905411</td>\n",
       "    </tr>\n",
       "    <tr>\n",
       "      <th>Sensitivity</th>\n",
       "      <td>0.388854</td>\n",
       "      <td>0.296390</td>\n",
       "      <td>0.274858</td>\n",
       "      <td>0.408486</td>\n",
       "    </tr>\n",
       "    <tr>\n",
       "      <th>Specificity</th>\n",
       "      <td>0.966792</td>\n",
       "      <td>0.978056</td>\n",
       "      <td>0.960367</td>\n",
       "      <td>0.970880</td>\n",
       "    </tr>\n",
       "  </tbody>\n",
       "</table>\n",
       "</div>"
      ],
      "text/plain": [
       "             Adaptive Boosting  Decision Tree  KNN Classification  \\\n",
       "TP                  614.000000     468.000000          434.000000   \n",
       "TN                11587.000000   11722.000000        11510.000000   \n",
       "FP                  398.000000     263.000000          475.000000   \n",
       "FN                  965.000000    1111.000000         1145.000000   \n",
       "Accuracy              0.899513       0.898702            0.880566   \n",
       "Sensitivity           0.388854       0.296390            0.274858   \n",
       "Specificity           0.966792       0.978056            0.960367   \n",
       "\n",
       "             Random Forest  \n",
       "TP              645.000000  \n",
       "TN            11636.000000  \n",
       "FP              349.000000  \n",
       "FN              934.000000  \n",
       "Accuracy          0.905411  \n",
       "Sensitivity       0.408486  \n",
       "Specificity       0.970880  "
      ]
     },
     "execution_count": 53,
     "metadata": {},
     "output_type": "execute_result"
    }
   ],
   "source": [
    "info = pd.DataFrame(main_df)\n",
    "\n",
    "info"
   ]
  },
  {
   "cell_type": "code",
   "execution_count": null,
   "metadata": {},
   "outputs": [],
   "source": []
  },
  {
   "cell_type": "code",
   "execution_count": null,
   "metadata": {},
   "outputs": [],
   "source": []
  },
  {
   "cell_type": "markdown",
   "metadata": {},
   "source": [
    "# DECISION TREE, RANDOM FOREST, KNN, ADA BOOS TOGETHER"
   ]
  },
  {
   "cell_type": "code",
   "execution_count": 54,
   "metadata": {},
   "outputs": [
    {
     "name": "stdout",
     "output_type": "stream",
     "text": [
      "                Accuracy\n",
      "Random Forest  90.541138\n",
      "Ada Boost      89.951342\n",
      "Decision Tree  89.870245\n",
      "KNN            88.056620\n"
     ]
    }
   ],
   "source": [
    "from sklearn.tree import DecisionTreeClassifier\n",
    "from sklearn.ensemble import RandomForestClassifier\n",
    "from sklearn.neighbors import KNeighborsClassifier\n",
    "from sklearn.ensemble import AdaBoostClassifier\n",
    "from sklearn.metrics import accuracy_score\n",
    "\n",
    "l=[]\n",
    "model_1=DecisionTreeClassifier(random_state=100,max_depth=3)\n",
    "model_2=RandomForestClassifier(random_state=100,n_estimators=300)\n",
    "model_3=KNeighborsClassifier(n_neighbors=5)\n",
    "model_4=AdaBoostClassifier(random_state=100, n_estimators=800)\n",
    "a=(model_1,model_2,model_3,model_4)\n",
    "for i in a:\n",
    "    i.fit(train_x,train_y)\n",
    "    pred_test=i.predict(test_x)\n",
    "    a=accuracy_score(test_y,pred_test)\n",
    "    l.append(a*100)\n",
    "df=(pd.DataFrame({'Accuracy':l},index=['Decision Tree','Random Forest','KNN','Ada Boost']).sort_values('Accuracy',ascending=False))\n",
    "df"
   ]
  },
  {
   "cell_type": "code",
   "execution_count": null,
   "metadata": {},
   "outputs": [],
   "source": []
  },
  {
   "cell_type": "code",
   "execution_count": null,
   "metadata": {},
   "outputs": [],
   "source": [
    "import seaborn as sns\n",
    "iris=sns.load_dataset(\"iris\")\n",
    "iris.head()"
   ]
  },
  {
   "cell_type": "code",
   "execution_count": null,
   "metadata": {},
   "outputs": [],
   "source": [
    "train,test=train_test_split(iris,test_size=0.3,random_state=100)"
   ]
  },
  {
   "cell_type": "code",
   "execution_count": null,
   "metadata": {},
   "outputs": [],
   "source": [
    "train_x=train.drop('species',axis=1)\n",
    "train_y=train['species']\n",
    "\n",
    "test_x=test.drop('species',axis=1)\n",
    "test_y=test['species']\n"
   ]
  },
  {
   "cell_type": "markdown",
   "metadata": {},
   "source": [
    "## step a"
   ]
  },
  {
   "cell_type": "code",
   "execution_count": null,
   "metadata": {},
   "outputs": [],
   "source": [
    "from scipy.spatial.distance import euclidean\n",
    "\n",
    "test_sample = test_x.iloc[0]\n",
    "df_eds = pd.DataFrame(columns=['index','euclidean'])"
   ]
  },
  {
   "cell_type": "markdown",
   "metadata": {},
   "source": [
    "### step b"
   ]
  },
  {
   "cell_type": "code",
   "execution_count": null,
   "metadata": {},
   "outputs": [],
   "source": [
    "for index,row in train_x.iterrows():#performs over DataFrame rows as (index, Series) pairs.\n",
    "    curr_ed = euclidean(test_sample.values,row.values)\n",
    "    df_eds = df_eds.append({'index': index,'euclidean':curr_ed},ignore_index=True)\n",
    "df_eds=df_eds.sort_values(by='euclidean')"
   ]
  },
  {
   "cell_type": "markdown",
   "metadata": {},
   "source": [
    "### step c"
   ]
  },
  {
   "cell_type": "code",
   "execution_count": null,
   "metadata": {},
   "outputs": [],
   "source": [
    "neighbors =df_eds.head()\n",
    "\n",
    "train_y.loc[neighbors['index']].value_counts().index[0]"
   ]
  },
  {
   "cell_type": "code",
   "execution_count": null,
   "metadata": {},
   "outputs": [],
   "source": []
  },
  {
   "cell_type": "markdown",
   "metadata": {},
   "source": [
    "# KAGGLE DATASET (DIGIT RECOGNIZER)"
   ]
  },
  {
   "cell_type": "code",
   "execution_count": 56,
   "metadata": {},
   "outputs": [],
   "source": [
    "train_main=pd.read_csv('D:/MANIPAL/TERM 2/MACHINE LEARNING/KATHIRMANI/Assignment/1/digit recognizer/train.csv')\n",
    "test_main=pd.read_csv('D:/MANIPAL/TERM 2/MACHINE LEARNING/KATHIRMANI/Assignment/1/digit recognizer/test.csv')"
   ]
  },
  {
   "cell_type": "code",
   "execution_count": 4,
   "metadata": {},
   "outputs": [],
   "source": []
  },
  {
   "cell_type": "code",
   "execution_count": 57,
   "metadata": {},
   "outputs": [
    {
     "data": {
      "text/plain": [
       "<matplotlib.image.AxesImage at 0x196b5066898>"
      ]
     },
     "execution_count": 57,
     "metadata": {},
     "output_type": "execute_result"
    },
    {
     "data": {
      "image/png": "[encoded data removed]",
      "text/plain": [
       "<matplotlib.figure.Figure at 0x196e53726a0>"
      ]
     },
     "metadata": {},
     "output_type": "display_data"
    }
   ],
   "source": [
    "import matplotlib.pyplot as plt\n",
    "first_digit =train_main.iloc[1].drop('label').values.reshape(28,28)\n",
    "plt.imshow(first_digit)"
   ]
  },
  {
   "cell_type": "code",
   "execution_count": 10,
   "metadata": {},
   "outputs": [],
   "source": []
  },
  {
   "cell_type": "code",
   "execution_count": 58,
   "metadata": {},
   "outputs": [],
   "source": [
    "from sklearn.model_selection import train_test_split\n",
    "train,test=train_test_split(train_main,test_size=0.3,random_state=100)\n",
    "\n",
    "train_x1=train.drop('label',axis=1)\n",
    "train_y1=train['label']\n",
    "\n",
    "test_x1=test.drop('label',axis=1)\n",
    "test_y1=test['label']\n"
   ]
  },
  {
   "cell_type": "code",
   "execution_count": 59,
   "metadata": {},
   "outputs": [
    {
     "data": {
      "text/html": [
       "<div>\n",
       "<style scoped>\n",
       "    .dataframe tbody tr th:only-of-type {\n",
       "        vertical-align: middle;\n",
       "    }\n",
       "\n",
       "    .dataframe tbody tr th {\n",
       "        vertical-align: top;\n",
       "    }\n",
       "\n",
       "    .dataframe thead th {\n",
       "        text-align: right;\n",
       "    }\n",
       "</style>\n",
       "<table border=\"1\" class=\"dataframe\">\n",
       "  <thead>\n",
       "    <tr style=\"text-align: right;\">\n",
       "      <th></th>\n",
       "      <th>Accuracy</th>\n",
       "    </tr>\n",
       "  </thead>\n",
       "  <tbody>\n",
       "    <tr>\n",
       "      <th>KNN</th>\n",
       "      <td>96.412698</td>\n",
       "    </tr>\n",
       "    <tr>\n",
       "      <th>Random Forest</th>\n",
       "      <td>96.341270</td>\n",
       "    </tr>\n",
       "    <tr>\n",
       "      <th>Ada Boost</th>\n",
       "      <td>64.507937</td>\n",
       "    </tr>\n",
       "    <tr>\n",
       "      <th>Decision Tree</th>\n",
       "      <td>45.619048</td>\n",
       "    </tr>\n",
       "  </tbody>\n",
       "</table>\n",
       "</div>"
      ],
      "text/plain": [
       "                Accuracy\n",
       "KNN            96.412698\n",
       "Random Forest  96.341270\n",
       "Ada Boost      64.507937\n",
       "Decision Tree  45.619048"
      ]
     },
     "execution_count": 59,
     "metadata": {},
     "output_type": "execute_result"
    }
   ],
   "source": [
    "#DECISION TREE, RANDOM FOREST, KNN, ADA BOOS TOGETHER\n",
    "\n",
    "from sklearn.tree import DecisionTreeClassifier\n",
    "from sklearn.ensemble import RandomForestClassifier\n",
    "from sklearn.neighbors import KNeighborsClassifier\n",
    "from sklearn.ensemble import AdaBoostClassifier\n",
    "from sklearn.metrics import accuracy_score\n",
    "\n",
    "l=[]\n",
    "model_1=DecisionTreeClassifier(random_state=100,max_depth=3)\n",
    "model_2=RandomForestClassifier(random_state=100,n_estimators=300)\n",
    "model_3=KNeighborsClassifier(n_neighbors=5)\n",
    "model_4=AdaBoostClassifier(random_state=100, n_estimators=800)\n",
    "a=(model_1,model_2,model_3,model_4)\n",
    "for i in a:\n",
    "    i.fit(train_x1,train_y1)\n",
    "    pred_test=i.predict(test_x1)\n",
    "    a=accuracy_score(test_y1,pred_test)\n",
    "    l.append(a*100)\n",
    "df=(pd.DataFrame({'Accuracy':l},index=['Decision Tree','Random Forest','KNN','Ada Boost']).sort_values('Accuracy',ascending=False))\n",
    "df"
   ]
  },
  {
   "cell_type": "code",
   "execution_count": 14,
   "metadata": {},
   "outputs": [],
   "source": [
    "test_pred = model_3.predict(test_main)\n",
    "df_test_pred = pd.DataFrame(test_pred, columns=['Predicted'])\n",
    "df_test_pred['ImageId'] = test_main.index + 1"
   ]
  },
  {
   "cell_type": "code",
   "execution_count": 16,
   "metadata": {},
   "outputs": [],
   "source": [
    "df_test_pred[['ImageId', 'Predicted']].to_csv('submission.csv', index=False)"
   ]
  },
  {
   "cell_type": "code",
   "execution_count": 17,
   "metadata": {},
   "outputs": [
    {
     "data": {
      "text/html": [
       "<div>\n",
       "<style scoped>\n",
       "    .dataframe tbody tr th:only-of-type {\n",
       "        vertical-align: middle;\n",
       "    }\n",
       "\n",
       "    .dataframe tbody tr th {\n",
       "        vertical-align: top;\n",
       "    }\n",
       "\n",
       "    .dataframe thead th {\n",
       "        text-align: right;\n",
       "    }\n",
       "</style>\n",
       "<table border=\"1\" class=\"dataframe\">\n",
       "  <thead>\n",
       "    <tr style=\"text-align: right;\">\n",
       "      <th></th>\n",
       "      <th>ImageId</th>\n",
       "      <th>Predicted</th>\n",
       "    </tr>\n",
       "  </thead>\n",
       "  <tbody>\n",
       "    <tr>\n",
       "      <th>0</th>\n",
       "      <td>1</td>\n",
       "      <td>2</td>\n",
       "    </tr>\n",
       "    <tr>\n",
       "      <th>1</th>\n",
       "      <td>2</td>\n",
       "      <td>0</td>\n",
       "    </tr>\n",
       "    <tr>\n",
       "      <th>2</th>\n",
       "      <td>3</td>\n",
       "      <td>9</td>\n",
       "    </tr>\n",
       "    <tr>\n",
       "      <th>3</th>\n",
       "      <td>4</td>\n",
       "      <td>9</td>\n",
       "    </tr>\n",
       "    <tr>\n",
       "      <th>4</th>\n",
       "      <td>5</td>\n",
       "      <td>3</td>\n",
       "    </tr>\n",
       "  </tbody>\n",
       "</table>\n",
       "</div>"
      ],
      "text/plain": [
       "   ImageId  Predicted\n",
       "0        1          2\n",
       "1        2          0\n",
       "2        3          9\n",
       "3        4          9\n",
       "4        5          3"
      ]
     },
     "execution_count": 17,
     "metadata": {},
     "output_type": "execute_result"
    }
   ],
   "source": [
    "pd.read_csv('submission.csv').head()"
   ]
  },
  {
   "cell_type": "code",
   "execution_count": null,
   "metadata": {},
   "outputs": [],
   "source": []
  },
  {
   "cell_type": "code",
   "execution_count": null,
   "metadata": {},
   "outputs": [],
   "source": []
  },
  {
   "cell_type": "code",
   "execution_count": null,
   "metadata": {},
   "outputs": [],
   "source": []
  },
  {
   "cell_type": "code",
   "execution_count": null,
   "metadata": {},
   "outputs": [],
   "source": []
  }
 ],
 "metadata": {
  "kernelspec": {
   "display_name": "Python 3",
   "language": "python",
   "name": "python3"
  },
  "language_info": {
   "codemirror_mode": {
    "name": "ipython",
    "version": 3
   },
   "file_extension": ".py",
   "mimetype": "text/x-python",
   "name": "python",
   "nbconvert_exporter": "python",
   "pygments_lexer": "ipython3",
   "version": "3.6.4"
  }
 },
 "nbformat": 4,
 "nbformat_minor": 2
}
