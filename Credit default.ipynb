{
 "cells": [
  {
   "cell_type": "markdown",
   "metadata": {},
   "source": [
    "# Harjeet Singh"
   ]
  },
  {
   "cell_type": "code",
   "execution_count": null,
   "metadata": {},
   "outputs": [],
   "source": [
    "#DECISION TREE, RANDOM FOREST, KNN, ADA BOOST AND NAIVE BAYSE ALL TOGETHER\n",
    "def(df):\n",
    "    from sklearn.tree import DecisionTreeClassifier\n",
    "    from sklearn.ensemble import RandomForestClassifier\n",
    "    from sklearn.neighbors import KNeighborsClassifier\n",
    "    from sklearn.ensemble import AdaBoostClassifier\n",
    "    from sklearn.metrics import accuracy_score, confusion_matrix\n",
    "    from sklearn.naive_bayes import GaussianNB\n",
    "\n",
    "\n",
    "\n",
    "    l=[]\n",
    "    l1=[]\n",
    "    l2=[]\n",
    "    model_1aa=DecisionTreeClassifier(random_state=100,max_depth=4)\n",
    "    model_2aa=RandomForestClassifier(random_state=100,n_estimators=300)\n",
    "    model_3aa=KNeighborsClassifier(n_neighbors=5)\n",
    "    model_4aa=AdaBoostClassifier(random_state=100, n_estimators=300)\n",
    "    model_5aa=GaussianNB()\n",
    "    a=(model_1aa,model_2aa,model_3aa,model_4aa,model_5aa)\n",
    "    for i in a:\n",
    "        i.fit(train_x,train_y)\n",
    "        pred_test=i.predict(test_x)\n",
    "        a=accuracy_score(test_y,pred_test)\n",
    "        l.append(a*100)\n",
    "        pred_probs = pd.DataFrame(i.predict_proba(test_x),columns=['Neg', 'Pos'])\n",
    "        pred_test = pred_probs['Pos'].apply(lambda v: 1 if v>0.5 else 0)\n",
    "        tn, fp, fn, tp = confusion_matrix(test_y, pred_test).ravel()\n",
    "        sensitivity = tp/ (tp+fn)\n",
    "        specificity = tn / (tn+fp)\n",
    "        l1.append(sensitivity*100)\n",
    "        l2.append(specificity*100)\n",
    "\n",
    "    df=(pd.DataFrame({'Accuracy':l,'Sensitivity':l1,'Specificity':l2},index=['Decision Tree','Random Forest','KNN','Ada Boost','Naive Bayes']).sort_values('Accuracy',ascending=False))\n",
    "    df"
   ]
  },
  {
   "cell_type": "code",
   "execution_count": 1,
   "metadata": {},
   "outputs": [],
   "source": [
    "import pandas as pd\n",
    "import numpy as np\n",
    "from sklearn.tree import DecisionTreeClassifier\n",
    "from sklearn.ensemble import RandomForestClassifier\n",
    "from sklearn.neighbors import KNeighborsClassifier\n",
    "from sklearn.ensemble import AdaBoostClassifier\n",
    "from sklearn.metrics import accuracy_score\n",
    "from sklearn.naive_bayes import GaussianNB\n",
    "from sklearn.model_selection import train_test_split\n",
    "from sklearn.metrics import accuracy_score, classification_report\n",
    "from sklearn.metrics import confusion_matrix\n",
    "from sklearn.metrics import roc_curve\n",
    "import matplotlib.pyplot as plt"
   ]
  },
  {
   "cell_type": "code",
   "execution_count": 2,
   "metadata": {},
   "outputs": [
    {
     "data": {
      "text/html": [
       "<div>\n",
       "<style scoped>\n",
       "    .dataframe tbody tr th:only-of-type {\n",
       "        vertical-align: middle;\n",
       "    }\n",
       "\n",
       "    .dataframe tbody tr th {\n",
       "        vertical-align: top;\n",
       "    }\n",
       "\n",
       "    .dataframe thead th {\n",
       "        text-align: right;\n",
       "    }\n",
       "</style>\n",
       "<table border=\"1\" class=\"dataframe\">\n",
       "  <thead>\n",
       "    <tr style=\"text-align: right;\">\n",
       "      <th></th>\n",
       "      <th>checking_balance</th>\n",
       "      <th>months_loan_duration</th>\n",
       "      <th>credit_history</th>\n",
       "      <th>purpose</th>\n",
       "      <th>amount</th>\n",
       "      <th>savings_balance</th>\n",
       "      <th>employment_length</th>\n",
       "      <th>installment_rate</th>\n",
       "      <th>personal_status</th>\n",
       "      <th>other_debtors</th>\n",
       "      <th>...</th>\n",
       "      <th>property</th>\n",
       "      <th>age</th>\n",
       "      <th>installment_plan</th>\n",
       "      <th>housing</th>\n",
       "      <th>existing_credits</th>\n",
       "      <th>default</th>\n",
       "      <th>dependents</th>\n",
       "      <th>telephone</th>\n",
       "      <th>foreign_worker</th>\n",
       "      <th>job</th>\n",
       "    </tr>\n",
       "  </thead>\n",
       "  <tbody>\n",
       "    <tr>\n",
       "      <th>0</th>\n",
       "      <td>&lt; 0 DM</td>\n",
       "      <td>6</td>\n",
       "      <td>critical</td>\n",
       "      <td>radio/tv</td>\n",
       "      <td>1169</td>\n",
       "      <td>unknown</td>\n",
       "      <td>&gt; 7 yrs</td>\n",
       "      <td>4</td>\n",
       "      <td>single male</td>\n",
       "      <td>none</td>\n",
       "      <td>...</td>\n",
       "      <td>real estate</td>\n",
       "      <td>67</td>\n",
       "      <td>none</td>\n",
       "      <td>own</td>\n",
       "      <td>2</td>\n",
       "      <td>1</td>\n",
       "      <td>1</td>\n",
       "      <td>yes</td>\n",
       "      <td>yes</td>\n",
       "      <td>skilled employee</td>\n",
       "    </tr>\n",
       "    <tr>\n",
       "      <th>1</th>\n",
       "      <td>1 - 200 DM</td>\n",
       "      <td>48</td>\n",
       "      <td>repaid</td>\n",
       "      <td>radio/tv</td>\n",
       "      <td>5951</td>\n",
       "      <td>&lt; 100 DM</td>\n",
       "      <td>1 - 4 yrs</td>\n",
       "      <td>2</td>\n",
       "      <td>female</td>\n",
       "      <td>none</td>\n",
       "      <td>...</td>\n",
       "      <td>real estate</td>\n",
       "      <td>22</td>\n",
       "      <td>none</td>\n",
       "      <td>own</td>\n",
       "      <td>1</td>\n",
       "      <td>2</td>\n",
       "      <td>1</td>\n",
       "      <td>none</td>\n",
       "      <td>yes</td>\n",
       "      <td>skilled employee</td>\n",
       "    </tr>\n",
       "    <tr>\n",
       "      <th>2</th>\n",
       "      <td>unknown</td>\n",
       "      <td>12</td>\n",
       "      <td>critical</td>\n",
       "      <td>education</td>\n",
       "      <td>2096</td>\n",
       "      <td>&lt; 100 DM</td>\n",
       "      <td>4 - 7 yrs</td>\n",
       "      <td>2</td>\n",
       "      <td>single male</td>\n",
       "      <td>none</td>\n",
       "      <td>...</td>\n",
       "      <td>real estate</td>\n",
       "      <td>49</td>\n",
       "      <td>none</td>\n",
       "      <td>own</td>\n",
       "      <td>1</td>\n",
       "      <td>1</td>\n",
       "      <td>2</td>\n",
       "      <td>none</td>\n",
       "      <td>yes</td>\n",
       "      <td>unskilled resident</td>\n",
       "    </tr>\n",
       "    <tr>\n",
       "      <th>3</th>\n",
       "      <td>&lt; 0 DM</td>\n",
       "      <td>42</td>\n",
       "      <td>repaid</td>\n",
       "      <td>furniture</td>\n",
       "      <td>7882</td>\n",
       "      <td>&lt; 100 DM</td>\n",
       "      <td>4 - 7 yrs</td>\n",
       "      <td>2</td>\n",
       "      <td>single male</td>\n",
       "      <td>guarantor</td>\n",
       "      <td>...</td>\n",
       "      <td>building society savings</td>\n",
       "      <td>45</td>\n",
       "      <td>none</td>\n",
       "      <td>for free</td>\n",
       "      <td>1</td>\n",
       "      <td>1</td>\n",
       "      <td>2</td>\n",
       "      <td>none</td>\n",
       "      <td>yes</td>\n",
       "      <td>skilled employee</td>\n",
       "    </tr>\n",
       "    <tr>\n",
       "      <th>4</th>\n",
       "      <td>&lt; 0 DM</td>\n",
       "      <td>24</td>\n",
       "      <td>delayed</td>\n",
       "      <td>car (new)</td>\n",
       "      <td>4870</td>\n",
       "      <td>&lt; 100 DM</td>\n",
       "      <td>1 - 4 yrs</td>\n",
       "      <td>3</td>\n",
       "      <td>single male</td>\n",
       "      <td>none</td>\n",
       "      <td>...</td>\n",
       "      <td>unknown/none</td>\n",
       "      <td>53</td>\n",
       "      <td>none</td>\n",
       "      <td>for free</td>\n",
       "      <td>2</td>\n",
       "      <td>2</td>\n",
       "      <td>2</td>\n",
       "      <td>none</td>\n",
       "      <td>yes</td>\n",
       "      <td>skilled employee</td>\n",
       "    </tr>\n",
       "  </tbody>\n",
       "</table>\n",
       "<p>5 rows × 21 columns</p>\n",
       "</div>"
      ],
      "text/plain": [
       "  checking_balance  months_loan_duration credit_history    purpose  amount  \\\n",
       "0           < 0 DM                     6       critical   radio/tv    1169   \n",
       "1       1 - 200 DM                    48         repaid   radio/tv    5951   \n",
       "2          unknown                    12       critical  education    2096   \n",
       "3           < 0 DM                    42         repaid  furniture    7882   \n",
       "4           < 0 DM                    24        delayed  car (new)    4870   \n",
       "\n",
       "  savings_balance employment_length  installment_rate personal_status  \\\n",
       "0         unknown           > 7 yrs                 4     single male   \n",
       "1        < 100 DM         1 - 4 yrs                 2          female   \n",
       "2        < 100 DM         4 - 7 yrs                 2     single male   \n",
       "3        < 100 DM         4 - 7 yrs                 2     single male   \n",
       "4        < 100 DM         1 - 4 yrs                 3     single male   \n",
       "\n",
       "  other_debtors         ...                          property age  \\\n",
       "0          none         ...                       real estate  67   \n",
       "1          none         ...                       real estate  22   \n",
       "2          none         ...                       real estate  49   \n",
       "3     guarantor         ...          building society savings  45   \n",
       "4          none         ...                      unknown/none  53   \n",
       "\n",
       "   installment_plan   housing existing_credits  default  dependents  \\\n",
       "0              none       own                2        1           1   \n",
       "1              none       own                1        2           1   \n",
       "2              none       own                1        1           2   \n",
       "3              none  for free                1        1           2   \n",
       "4              none  for free                2        2           2   \n",
       "\n",
       "   telephone foreign_worker                 job  \n",
       "0        yes            yes    skilled employee  \n",
       "1       none            yes    skilled employee  \n",
       "2       none            yes  unskilled resident  \n",
       "3       none            yes    skilled employee  \n",
       "4       none            yes    skilled employee  \n",
       "\n",
       "[5 rows x 21 columns]"
      ]
     },
     "execution_count": 2,
     "metadata": {},
     "output_type": "execute_result"
    }
   ],
   "source": [
    "credit=pd.read_csv('https://raw.githubusercontent.com/skathirmani/datasets/master/credit-default.csv')\n",
    "credit.head()"
   ]
  },
  {
   "cell_type": "code",
   "execution_count": null,
   "metadata": {},
   "outputs": [],
   "source": [
    "import "
   ]
  },
  {
   "cell_type": "code",
   "execution_count": null,
   "metadata": {},
   "outputs": [],
   "source": [
    "c = pd.get_dummies(credit.drop('default',axis = 1))# dropped the y\n",
    "c['default'] = credit['default']"
   ]
  },
  {
   "cell_type": "code",
   "execution_count": null,
   "metadata": {},
   "outputs": [],
   "source": [
    "from sklearn.model_selection import train_test_split\n",
    "train,test=train_test_split(c,random_state=100,test_size=0.3)\n",
    "print(train.shape)\n",
    "print(test.shape)"
   ]
  },
  {
   "cell_type": "code",
   "execution_count": null,
   "metadata": {},
   "outputs": [],
   "source": [
    "train_x=train.drop('default',axis=1)\n",
    "train_y=train['default']\n",
    "\n",
    "test_x=test.drop('default',axis=1)\n",
    "test_y=test['default']\n",
    "\n",
    "\n",
    "print(train_x.shape)\n",
    "print(train_y.shape)\n",
    "\n",
    "print(test_x.shape)\n",
    "print(test_y.shape)"
   ]
  },
  {
   "cell_type": "markdown",
   "metadata": {},
   "source": [
    "# ACCURACY OF DATASET USING DECISION TREE, RANDOM FOREST, KNN, ADA BOOST AND NAIVE BAYSE ALL TOGETHER"
   ]
  },
  {
   "cell_type": "code",
   "execution_count": 120,
   "metadata": {},
   "outputs": [
    {
     "data": {
      "text/html": [
       "<div>\n",
       "<style scoped>\n",
       "    .dataframe tbody tr th:only-of-type {\n",
       "        vertical-align: middle;\n",
       "    }\n",
       "\n",
       "    .dataframe tbody tr th {\n",
       "        vertical-align: top;\n",
       "    }\n",
       "\n",
       "    .dataframe thead th {\n",
       "        text-align: right;\n",
       "    }\n",
       "</style>\n",
       "<table border=\"1\" class=\"dataframe\">\n",
       "  <thead>\n",
       "    <tr style=\"text-align: right;\">\n",
       "      <th></th>\n",
       "      <th>Accuracy</th>\n",
       "    </tr>\n",
       "  </thead>\n",
       "  <tbody>\n",
       "    <tr>\n",
       "      <th>Random Forest</th>\n",
       "      <td>73.333333</td>\n",
       "    </tr>\n",
       "    <tr>\n",
       "      <th>Decision Tree</th>\n",
       "      <td>69.666667</td>\n",
       "    </tr>\n",
       "    <tr>\n",
       "      <th>Ada Boost</th>\n",
       "      <td>69.333333</td>\n",
       "    </tr>\n",
       "    <tr>\n",
       "      <th>Naive Bayes</th>\n",
       "      <td>68.333333</td>\n",
       "    </tr>\n",
       "    <tr>\n",
       "      <th>KNN</th>\n",
       "      <td>67.666667</td>\n",
       "    </tr>\n",
       "  </tbody>\n",
       "</table>\n",
       "</div>"
      ],
      "text/plain": [
       "                Accuracy\n",
       "Random Forest  73.333333\n",
       "Decision Tree  69.666667\n",
       "Ada Boost      69.333333\n",
       "Naive Bayes    68.333333\n",
       "KNN            67.666667"
      ]
     },
     "execution_count": 120,
     "metadata": {},
     "output_type": "execute_result"
    }
   ],
   "source": [
    "#DECISION TREE, RANDOM FOREST, KNN, ADA BOOST AND NAIVE BAYSE ALL TOGETHER\n",
    "\n",
    "from sklearn.tree import DecisionTreeClassifier\n",
    "from sklearn.ensemble import RandomForestClassifier\n",
    "from sklearn.neighbors import KNeighborsClassifier\n",
    "from sklearn.ensemble import AdaBoostClassifier\n",
    "from sklearn.metrics import accuracy_score\n",
    "from sklearn.naive_bayes import GaussianNB\n",
    "\n",
    "\n",
    "l=[]\n",
    "model_1aa=DecisionTreeClassifier(random_state=100,max_depth=4)\n",
    "model_2aa=RandomForestClassifier(random_state=100,n_estimators=300)\n",
    "model_3aa=KNeighborsClassifier(n_neighbors=5)\n",
    "model_4aa=AdaBoostClassifier(random_state=100, n_estimators=300)\n",
    "model_5aa=GaussianNB()\n",
    "a=(model_1aa,model_2aa,model_3aa,model_4aa,model_5aa)\n",
    "for i in a:\n",
    "    i.fit(train_x,train_y)\n",
    "    pred_test=i.predict(test_x)\n",
    "    a=accuracy_score(test_y,pred_test)\n",
    "    l.append(a*100)\n",
    "df=(pd.DataFrame({'Accuracy':l},index=['Decision Tree','Random Forest','KNN','Ada Boost','Naive Bayes']).sort_values('Accuracy',ascending=False))\n",
    "df"
   ]
  },
  {
   "cell_type": "code",
   "execution_count": null,
   "metadata": {},
   "outputs": [],
   "source": []
  },
  {
   "cell_type": "markdown",
   "metadata": {},
   "source": [
    "# DECISION TREE"
   ]
  },
  {
   "cell_type": "markdown",
   "metadata": {},
   "source": [
    "# GRID SEARCH FOR DECISION TREE"
   ]
  },
  {
   "cell_type": "code",
   "execution_count": 80,
   "metadata": {},
   "outputs": [
    {
     "data": {
      "text/plain": [
       "{'max_depth': 4}"
      ]
     },
     "execution_count": 80,
     "metadata": {},
     "output_type": "execute_result"
    }
   ],
   "source": [
    "from sklearn.model_selection import GridSearchCV\n",
    "params = {'max_depth': list(range(1,30))}\n",
    "base_estimator = DecisionTreeClassifier(random_state=100)\n",
    "cv_model = GridSearchCV(base_estimator,\n",
    "                       param_grid=params,\n",
    "                       cv=10)\n",
    "cv_model.fit(train_x, train_y)\n",
    "cv_model.best_params_"
   ]
  },
  {
   "cell_type": "code",
   "execution_count": 81,
   "metadata": {},
   "outputs": [
    {
     "data": {
      "text/plain": [
       "DecisionTreeClassifier(class_weight=None, criterion='gini', max_depth=3,\n",
       "            max_features=None, max_leaf_nodes=None,\n",
       "            min_impurity_decrease=0.0, min_impurity_split=None,\n",
       "            min_samples_leaf=1, min_samples_split=2,\n",
       "            min_weight_fraction_leaf=0.0, presort=False, random_state=100,\n",
       "            splitter='best')"
      ]
     },
     "execution_count": 81,
     "metadata": {},
     "output_type": "execute_result"
    }
   ],
   "source": [
    "from sklearn.tree import DecisionTreeClassifier\n",
    "model=DecisionTreeClassifier(random_state=100,max_depth=3)\n",
    "model.fit(train_x,train_y)"
   ]
  },
  {
   "cell_type": "code",
   "execution_count": 82,
   "metadata": {},
   "outputs": [],
   "source": [
    "pred_test=model.predict(test_x)\n",
    "pred_results=pd.DataFrame({'actual':test_y,'predicted':pred_test})"
   ]
  },
  {
   "cell_type": "code",
   "execution_count": 117,
   "metadata": {},
   "outputs": [
    {
     "data": {
      "text/plain": [
       "(179, 32, 49, 40)"
      ]
     },
     "execution_count": 117,
     "metadata": {},
     "output_type": "execute_result"
    }
   ],
   "source": [
    "#True Positive(TP)\n",
    "tp_a1=pred_results[(pred_results.predicted==1) & (pred_results.actual==1)].shape[0]\n",
    "\n",
    "#True Negative(TN)\n",
    "tn_a1=pred_results[(pred_results.predicted==2) & (pred_results.actual==2)].shape[0]\n",
    "\n",
    "#False Positive(FP)\n",
    "fp_a1=pred_results[(pred_results.predicted==1) & (pred_results.actual==2)].shape[0]\n",
    "\n",
    "#False Negative(FN)\n",
    "fn_a1=pred_results[(pred_results.predicted==2) & (pred_results.actual==1)].shape[0]\n",
    "\n",
    "\n",
    "tp_a1,tn_a1,fp_a1,fn_a1"
   ]
  },
  {
   "cell_type": "raw",
   "metadata": {},
   "source": [
    "             TN+TP     371                         TP                       TN  \n",
    "accuracy=  --------- = --- = 0.84,  Sensitivity = ---- = 0,  Specificity = ----- = 1\n",
    "          TN+TP+FP+FN  441                        TP+FN                    TN+FP\n",
    "          "
   ]
  },
  {
   "cell_type": "code",
   "execution_count": 84,
   "metadata": {},
   "outputs": [
    {
     "data": {
      "text/plain": [
       "(0.7033333333333334, 0.817351598173516, 0.3950617283950617)"
      ]
     },
     "execution_count": 84,
     "metadata": {},
     "output_type": "execute_result"
    }
   ],
   "source": [
    "accu_a1=(tn_a1+tp_a1)/(tn_a1+tp_a1+fp_a1+fn_a1)\n",
    "sensi_a1=tp_a1/(tp_a1+fn_a1)\n",
    "speci_a1=tn_a1/(tn_a1+fp_a1)\n",
    "\n",
    "accu_a1,sensi_a1,speci_a1"
   ]
  },
  {
   "cell_type": "markdown",
   "metadata": {},
   "source": [
    " "
   ]
  },
  {
   "cell_type": "code",
   "execution_count": 85,
   "metadata": {},
   "outputs": [
    {
     "name": "stdout",
     "output_type": "stream",
     "text": [
      "Accuracy : 0.7033333333333334\n",
      "Sensitivity : 0.817351598173516\n"
     ]
    }
   ],
   "source": [
    "print('Accuracy :',accu_a1)\n",
    "print('Sensitivity :',sensi_a1)"
   ]
  },
  {
   "cell_type": "code",
   "execution_count": 137,
   "metadata": {},
   "outputs": [
    {
     "data": {
      "image/png": "[encoded data removed]",
      "text/plain": [
       "<matplotlib.figure.Figure at 0x1c6da3dae80>"
      ]
     },
     "metadata": {},
     "output_type": "display_data"
    }
   ],
   "source": [
    "pred_probs_dt = pd.DataFrame(model.predict_proba(test_x),columns=['Pos','Neg'])\n",
    "fp_dt, tp_dt, th_dt = roc_curve(test_y,pred_probs_dt['Pos'],pos_label=1)\n",
    "plt.plot(fp_dt,tp_dt)\n",
    "plt.show()"
   ]
  },
  {
   "cell_type": "code",
   "execution_count": null,
   "metadata": {},
   "outputs": [],
   "source": []
  },
  {
   "cell_type": "code",
   "execution_count": null,
   "metadata": {},
   "outputs": [],
   "source": []
  },
  {
   "cell_type": "markdown",
   "metadata": {},
   "source": [
    "# RANDOM FOREST"
   ]
  },
  {
   "cell_type": "code",
   "execution_count": null,
   "metadata": {},
   "outputs": [],
   "source": []
  },
  {
   "cell_type": "code",
   "execution_count": 86,
   "metadata": {},
   "outputs": [],
   "source": [
    "from sklearn.ensemble import RandomForestClassifier"
   ]
  },
  {
   "cell_type": "code",
   "execution_count": 87,
   "metadata": {},
   "outputs": [
    {
     "data": {
      "text/plain": [
       "RandomForestClassifier(bootstrap=True, class_weight=None, criterion='gini',\n",
       "            max_depth=None, max_features='auto', max_leaf_nodes=None,\n",
       "            min_impurity_decrease=0.0, min_impurity_split=None,\n",
       "            min_samples_leaf=1, min_samples_split=2,\n",
       "            min_weight_fraction_leaf=0.0, n_estimators=300, n_jobs=1,\n",
       "            oob_score=False, random_state=100, verbose=0, warm_start=False)"
      ]
     },
     "execution_count": 87,
     "metadata": {},
     "output_type": "execute_result"
    }
   ],
   "source": [
    "from sklearn.ensemble import RandomForestClassifier\n",
    "model_rf=RandomForestClassifier(random_state=100,n_estimators=300)\n",
    "model_rf.fit(train_x,train_y)"
   ]
  },
  {
   "cell_type": "code",
   "execution_count": 88,
   "metadata": {},
   "outputs": [],
   "source": [
    "pred_results_rf = model_rf.predict(test_x)\n",
    "pred_results_a2 = pd.DataFrame({'actual': test_y,'predicted': pred_results_rf})"
   ]
  },
  {
   "cell_type": "code",
   "execution_count": 89,
   "metadata": {},
   "outputs": [
    {
     "name": "stdout",
     "output_type": "stream",
     "text": [
      "193\n",
      "27\n",
      "54\n",
      "26\n"
     ]
    }
   ],
   "source": [
    "#True Positive(TP)\n",
    "tp_a2=pred_results_a2[(pred_results_a2.predicted==1) & (pred_results_a2.actual==1)].shape[0]\n",
    "print(tp_a2)\n",
    "\n",
    "#True Negative(TN)\n",
    "tn_a2=pred_results_a2[(pred_results_a2.predicted==2) & (pred_results_a2.actual==2)].shape[0]\n",
    "print(tn_a2)\n",
    "\n",
    "#False Positive(FP)\n",
    "fp_a2=pred_results_a2[(pred_results_a2.predicted==1) & (pred_results_a2.actual==2)].shape[0]\n",
    "print(fp_a2)\n",
    "\n",
    "#False Negative(FN)\n",
    "fn_a2=pred_results_a2[(pred_results_a2.predicted==2) & (pred_results_a2.actual==1)].shape[0]\n",
    "print(fn_a2)"
   ]
  },
  {
   "cell_type": "raw",
   "metadata": {},
   "source": [
    "             TN+TP     371                         TP                       TN  \n",
    "accuracy=  --------- = --- = 0.84,  Sensitivity = ---- = 0,  Specificity = ----- = 1\n",
    "          TN+TP+FP+FN  441                        TP+FN                    TN+FP\n",
    "          "
   ]
  },
  {
   "cell_type": "code",
   "execution_count": 90,
   "metadata": {},
   "outputs": [
    {
     "data": {
      "text/plain": [
       "(0.7333333333333333, 0.8812785388127854, 0.3333333333333333)"
      ]
     },
     "execution_count": 90,
     "metadata": {},
     "output_type": "execute_result"
    }
   ],
   "source": [
    "accu_a2=(tn_a2+tp_a2)/(tn_a2+tp_a2+fp_a2+fn_a2)\n",
    "\n",
    "sensi_a2=tp_a2/(tp_a2+fn_a2)\n",
    "\n",
    "speci_a2=tn_a2/(tn_a2+fp_a2)\n",
    "accu_a2,sensi_a2,speci_a2"
   ]
  },
  {
   "cell_type": "code",
   "execution_count": 91,
   "metadata": {},
   "outputs": [
    {
     "name": "stdout",
     "output_type": "stream",
     "text": [
      "Accuracy : 0.7333333333333333\n",
      "Sensitivity : 0.8812785388127854\n"
     ]
    }
   ],
   "source": [
    "print('Accuracy :',accu_a2)\n",
    "print('Sensitivity :',sensi_a2)\n"
   ]
  },
  {
   "cell_type": "code",
   "execution_count": 138,
   "metadata": {},
   "outputs": [
    {
     "data": {
      "image/png": "[encoded data removed]",
      "text/plain": [
       "<matplotlib.figure.Figure at 0x1c6da0cb438>"
      ]
     },
     "metadata": {},
     "output_type": "display_data"
    }
   ],
   "source": [
    "pred_probs_dt = pd.DataFrame(model_rf.predict_proba(test_x),columns=['Pos','Neg'])\n",
    "fp_rf, tp_rf, th_rf = roc_curve(test_y,pred_probs_dt['Pos'],pos_label=1)\n",
    "plt.plot(fp_rf,tp_rf)\n",
    "plt.show()"
   ]
  },
  {
   "cell_type": "markdown",
   "metadata": {},
   "source": [
    "# ADA BOOST"
   ]
  },
  {
   "cell_type": "code",
   "execution_count": 92,
   "metadata": {},
   "outputs": [],
   "source": [
    "from sklearn.ensemble import AdaBoostClassifier"
   ]
  },
  {
   "cell_type": "code",
   "execution_count": 93,
   "metadata": {},
   "outputs": [
    {
     "data": {
      "text/plain": [
       "AdaBoostClassifier(algorithm='SAMME.R', base_estimator=None,\n",
       "          learning_rate=1.0, n_estimators=800, random_state=100)"
      ]
     },
     "execution_count": 93,
     "metadata": {},
     "output_type": "execute_result"
    }
   ],
   "source": [
    "model3 = AdaBoostClassifier(random_state=100, n_estimators=800)\n",
    "model3.fit(train_x, train_y)"
   ]
  },
  {
   "cell_type": "code",
   "execution_count": 94,
   "metadata": {},
   "outputs": [],
   "source": [
    "pred_results3 = model3.predict(test_x)\n",
    "pred_results_a3 = pd.DataFrame({'actual': test_y,'predicted': pred_results3})"
   ]
  },
  {
   "cell_type": "code",
   "execution_count": 95,
   "metadata": {},
   "outputs": [
    {
     "name": "stdout",
     "output_type": "stream",
     "text": [
      "33\n",
      "177\n",
      "42\n",
      "48\n"
     ]
    }
   ],
   "source": [
    "#True Positive(TP)\n",
    "tp_a3=pred_results_a3[(pred_results_a3.predicted==2) & (pred_results_a3.actual==2)].shape[0]\n",
    "print(tp_a3)\n",
    "\n",
    "#True Negative(TN)\n",
    "tn_a3=pred_results_a3[(pred_results_a3.predicted==1) & (pred_results_a3.actual==1)].shape[0]\n",
    "print(tn_a3)\n",
    "\n",
    "#False Positive(FP)\n",
    "fp_a3=pred_results_a3[(pred_results_a3.predicted==2) & (pred_results_a3.actual==1)].shape[0]\n",
    "print(fp_a3)\n",
    "\n",
    "#False Negative(FN)\n",
    "fn_a3=pred_results_a2[(pred_results_a3.predicted==1) & (pred_results_a3.actual==2)].shape[0]\n",
    "print(fn_a3)"
   ]
  },
  {
   "cell_type": "raw",
   "metadata": {},
   "source": [
    "             TN+TP     371                         TP                       TN  \n",
    "accuracy=  --------- = --- = 0.84,  Sensitivity = ---- = 0,  Specificity = ----- = 1\n",
    "          TN+TP+FP+FN  441                        TP+FN                    TN+FP\n",
    "          "
   ]
  },
  {
   "cell_type": "code",
   "execution_count": 96,
   "metadata": {},
   "outputs": [
    {
     "data": {
      "text/plain": [
       "(0.7, 0.4074074074074074, 0.8082191780821918)"
      ]
     },
     "execution_count": 96,
     "metadata": {},
     "output_type": "execute_result"
    }
   ],
   "source": [
    "accu_a3=(tn_a3+tp_a3)/(tn_a3+tp_a3+fp_a3+fn_a3)\n",
    "\n",
    "sensi_a3=tp_a3/(tp_a3+fn_a3)\n",
    "\n",
    "speci_a3=tn_a3/(tn_a3+fp_a3)\n",
    "accu_a3,sensi_a3,speci_a3"
   ]
  },
  {
   "cell_type": "code",
   "execution_count": 97,
   "metadata": {},
   "outputs": [
    {
     "name": "stdout",
     "output_type": "stream",
     "text": [
      "Accuracy : 0.7\n",
      "Sensitivity : 0.4074074074074074\n"
     ]
    }
   ],
   "source": [
    "print('Accuracy :',accu_a3)\n",
    "print('Sensitivity :',sensi_a3)\n"
   ]
  },
  {
   "cell_type": "code",
   "execution_count": 139,
   "metadata": {},
   "outputs": [
    {
     "data": {
      "image/png": "[encoded data removed]",
      "text/plain": [
       "<matplotlib.figure.Figure at 0x1c6da431ef0>"
      ]
     },
     "metadata": {},
     "output_type": "display_data"
    }
   ],
   "source": [
    "pred_probs_dt = pd.DataFrame(model3.predict_proba(test_x),columns=['Pos','Neg'])\n",
    "fp_ab, tp_ab, th_ab = roc_curve(test_y,pred_probs_dt['Pos'],pos_label=1)\n",
    "plt.plot(fp_ab,tp_ab)\n",
    "plt.show()"
   ]
  },
  {
   "cell_type": "markdown",
   "metadata": {},
   "source": [
    "# KNN CLASSIFICATION"
   ]
  },
  {
   "cell_type": "code",
   "execution_count": 98,
   "metadata": {},
   "outputs": [],
   "source": [
    "from sklearn.neighbors import KNeighborsClassifier\n"
   ]
  },
  {
   "cell_type": "code",
   "execution_count": 99,
   "metadata": {},
   "outputs": [
    {
     "data": {
      "text/plain": [
       "KNeighborsClassifier(algorithm='auto', leaf_size=30, metric='minkowski',\n",
       "           metric_params=None, n_jobs=1, n_neighbors=5, p=2,\n",
       "           weights='uniform')"
      ]
     },
     "execution_count": 99,
     "metadata": {},
     "output_type": "execute_result"
    }
   ],
   "source": [
    "model_a4=KNeighborsClassifier(n_neighbors=5)\n",
    "model_a4.fit(train_x,train_y)"
   ]
  },
  {
   "cell_type": "code",
   "execution_count": 100,
   "metadata": {},
   "outputs": [],
   "source": [
    "pred_a4=model_a4.predict(test_x)\n",
    "df_a4=pd.DataFrame({'actual':test_y,'predicted':pred_a4})"
   ]
  },
  {
   "cell_type": "code",
   "execution_count": 101,
   "metadata": {},
   "outputs": [
    {
     "data": {
      "text/plain": [
       "(19, 184, 35, 62)"
      ]
     },
     "execution_count": 101,
     "metadata": {},
     "output_type": "execute_result"
    }
   ],
   "source": [
    "#True Positive\n",
    "tp_a4=df_a4[(df_a4.actual==2)&(df_a4.predicted==2)].shape[0]\n",
    "\n",
    "#True Negaive\n",
    "tn_a4=df_a4[(df_a4.actual==1)&(df_a4.predicted==1)].shape[0]\n",
    "\n",
    "#False Positive\n",
    "fp_a4=df_a4[(df_a4.actual==1)&(df_a4.predicted==2)].shape[0]\n",
    "\n",
    "#False Negative\n",
    "fn_a4=df_a4[(df_a4.actual==2)&(df_a4.predicted==1)].shape[0]\n",
    "\n",
    "tp_a4,tn_a4,fp_a4,fn_a4"
   ]
  },
  {
   "cell_type": "raw",
   "metadata": {},
   "source": [
    "             TN+TP     371                         TP                       TN  \n",
    "accuracy=  --------- = --- = 0.84,  Sensitivity = ---- = 0,  Specificity = ----- = 1\n",
    "          TN+TP+FP+FN  441                        TP+FN                    TN+FP\n",
    "          "
   ]
  },
  {
   "cell_type": "code",
   "execution_count": 102,
   "metadata": {},
   "outputs": [
    {
     "data": {
      "text/plain": [
       "(0.6766666666666666, 0.2345679012345679, 0.8401826484018264)"
      ]
     },
     "execution_count": 102,
     "metadata": {},
     "output_type": "execute_result"
    }
   ],
   "source": [
    "accu_a4=(tn_a4+tp_a4)/(tn_a4+tp_a4+fp_a4+fn_a4)\n",
    "sensi_a4=tp_a4/(tp_a4+fn_a4)\n",
    "speci_a4=tn_a4/(tn_a4+fp_a4)\n",
    "\n",
    "accu_a4,sensi_a4,speci_a4"
   ]
  },
  {
   "cell_type": "code",
   "execution_count": 103,
   "metadata": {},
   "outputs": [
    {
     "name": "stdout",
     "output_type": "stream",
     "text": [
      "Accuracy : 0.6766666666666666\n",
      "Sensitivity : 0.2345679012345679\n"
     ]
    }
   ],
   "source": [
    "print('Accuracy :',accu_a4)\n",
    "print('Sensitivity :',sensi_a4)\n"
   ]
  },
  {
   "cell_type": "code",
   "execution_count": 140,
   "metadata": {},
   "outputs": [
    {
     "data": {
      "image/png": "[encoded data removed]",
      "text/plain": [
       "<matplotlib.figure.Figure at 0x1c6da431048>"
      ]
     },
     "metadata": {},
     "output_type": "display_data"
    }
   ],
   "source": [
    "pred_probs_dt = pd.DataFrame(model_a4.predict_proba(test_x),columns=['Pos','Neg'])\n",
    "fp_knn, tp_knn, th_knn = roc_curve(test_y,pred_probs_dt['Pos'],pos_label=1)\n",
    "plt.plot(fp_knn,tp_knn)\n",
    "plt.show()"
   ]
  },
  {
   "cell_type": "markdown",
   "metadata": {},
   "source": [
    "# Naive Bayse"
   ]
  },
  {
   "cell_type": "code",
   "execution_count": 104,
   "metadata": {},
   "outputs": [
    {
     "data": {
      "text/plain": [
       "GaussianNB(priors=None)"
      ]
     },
     "execution_count": 104,
     "metadata": {},
     "output_type": "execute_result"
    }
   ],
   "source": [
    "from sklearn.naive_bayes import GaussianNB\n",
    "model_5=GaussianNB()\n",
    "model_5.fit(train_x,train_y)"
   ]
  },
  {
   "cell_type": "code",
   "execution_count": 105,
   "metadata": {},
   "outputs": [],
   "source": [
    "pred_a5=model_5.predict(test_x)\n",
    "df_a5=pd.DataFrame({'actual':test_y,'predicted':pred_a5})"
   ]
  },
  {
   "cell_type": "code",
   "execution_count": 106,
   "metadata": {},
   "outputs": [
    {
     "data": {
      "text/plain": [
       "(161, 44, 37, 58)"
      ]
     },
     "execution_count": 106,
     "metadata": {},
     "output_type": "execute_result"
    }
   ],
   "source": [
    "#True Positive(TP)\n",
    "tp_nb=df_a5[(df_a5.predicted==1) & (df_a5.actual==1)].shape[0]\n",
    "\n",
    "#True Negative(TN)\n",
    "tn_nb=df_a5[(df_a5.predicted==2) & (df_a5.actual==2)].shape[0]\n",
    "\n",
    "#False Positive(FP)\n",
    "fp_nb=df_a5[(df_a5.predicted==1) & (df_a5.actual==2)].shape[0]\n",
    "\n",
    "#False Negative(FN)\n",
    "fn_nb=df_a5[(df_a5.predicted==2) & (df_a5.actual==1)].shape[0]\n",
    "\n",
    "\n",
    "tp_nb,tn_nb,fp_nb,fn_nb"
   ]
  },
  {
   "cell_type": "raw",
   "metadata": {},
   "source": [
    "             TN+TP     371                         TP                       TN  \n",
    "accuracy=  --------- = --- = 0.84,  Sensitivity = ---- = 0,  Specificity = ----- = 1\n",
    "          TN+TP+FP+FN  441                        TP+FN                    TN+FP\n",
    "          "
   ]
  },
  {
   "cell_type": "code",
   "execution_count": 107,
   "metadata": {},
   "outputs": [],
   "source": [
    "accu_nb=(tn_nb+tp_nb)/(tn_nb+tp_nb+fp_nb+fn_nb)\n",
    "sensi_nb=tp_nb/(tp_nb+fn_nb)\n",
    "speci_nb=tn_nb/(tn_nb+fp_nb)"
   ]
  },
  {
   "cell_type": "code",
   "execution_count": 108,
   "metadata": {},
   "outputs": [
    {
     "name": "stdout",
     "output_type": "stream",
     "text": [
      "Accuracy : 0.6833333333333333\n",
      "Sensitivity : 0.7351598173515982\n"
     ]
    }
   ],
   "source": [
    "print('Accuracy :',accu_nb)\n",
    "print('Sensitivity :',sensi_nb)\n"
   ]
  },
  {
   "cell_type": "code",
   "execution_count": 141,
   "metadata": {},
   "outputs": [
    {
     "data": {
      "image/png": "[encoded data removed]",
      "text/plain": [
       "<matplotlib.figure.Figure at 0x1c6da45f400>"
      ]
     },
     "metadata": {},
     "output_type": "display_data"
    }
   ],
   "source": [
    "pred_probs_dt = pd.DataFrame(model_5.predict_proba(test_x),columns=['Pos','Neg'])\n",
    "fp_nb, tp_nb, th_nb = roc_curve(test_y,pred_probs_dt['Pos'],pos_label=1)\n",
    "plt.plot(fp_nb,tp_nb)\n",
    "plt.show()"
   ]
  },
  {
   "cell_type": "code",
   "execution_count": null,
   "metadata": {},
   "outputs": [],
   "source": []
  },
  {
   "cell_type": "code",
   "execution_count": null,
   "metadata": {},
   "outputs": [],
   "source": []
  },
  {
   "cell_type": "code",
   "execution_count": 109,
   "metadata": {},
   "outputs": [],
   "source": [
    "main_df = {'Decision Tree': pd.Series([tp_a1,tn_a1,fp_a1,fn_a1,accu_a1,sensi_a1,speci_a1],index=['TP','TN','FP','FN','Accuracy','Sensitivity','Specificity']),                                      \n",
    "          'Random Forest': pd.Series([tp_a2,tn_a2,fp_a2,fn_a2,accu_a2,sensi_a2,speci_a2],index=['TP','TN','FP','FN','Accuracy','Sensitivity','Specificity']),                                     \n",
    "          'Adaptive Boosting': pd.Series([tp_a3,tn_a3,fp_a3,fn_a3,accu_a3,sensi_a3,speci_a3],index=['TP','TN','FP','FN','Accuracy','Sensitivity','Specificity']),\n",
    "          'KNN Classification': pd.Series([tp_a4,tn_a4,fp_a4,fn_a4,accu_a4,sensi_a4,speci_a4],index=['TP','TN','FP','FN','Accuracy','Sensitivity','Specificity']),\n",
    "           'Naive Bayes': pd.Series([tp_nb,tn_nb,fp_nb,fn_nb,accu_nb,sensi_nb,speci_nb],index=['TP','TN','FP','FN','Accuracy','Sensitivity','Specificity'])\n",
    "          }"
   ]
  },
  {
   "cell_type": "code",
   "execution_count": 110,
   "metadata": {},
   "outputs": [
    {
     "data": {
      "text/html": [
       "<div>\n",
       "<style scoped>\n",
       "    .dataframe tbody tr th:only-of-type {\n",
       "        vertical-align: middle;\n",
       "    }\n",
       "\n",
       "    .dataframe tbody tr th {\n",
       "        vertical-align: top;\n",
       "    }\n",
       "\n",
       "    .dataframe thead th {\n",
       "        text-align: right;\n",
       "    }\n",
       "</style>\n",
       "<table border=\"1\" class=\"dataframe\">\n",
       "  <thead>\n",
       "    <tr style=\"text-align: right;\">\n",
       "      <th></th>\n",
       "      <th>Adaptive Boosting</th>\n",
       "      <th>Decision Tree</th>\n",
       "      <th>KNN Classification</th>\n",
       "      <th>Naive Bayes</th>\n",
       "      <th>Random Forest</th>\n",
       "    </tr>\n",
       "  </thead>\n",
       "  <tbody>\n",
       "    <tr>\n",
       "      <th>TP</th>\n",
       "      <td>33.000000</td>\n",
       "      <td>179.000000</td>\n",
       "      <td>19.000000</td>\n",
       "      <td>161.000000</td>\n",
       "      <td>193.000000</td>\n",
       "    </tr>\n",
       "    <tr>\n",
       "      <th>TN</th>\n",
       "      <td>177.000000</td>\n",
       "      <td>32.000000</td>\n",
       "      <td>184.000000</td>\n",
       "      <td>44.000000</td>\n",
       "      <td>27.000000</td>\n",
       "    </tr>\n",
       "    <tr>\n",
       "      <th>FP</th>\n",
       "      <td>42.000000</td>\n",
       "      <td>49.000000</td>\n",
       "      <td>35.000000</td>\n",
       "      <td>37.000000</td>\n",
       "      <td>54.000000</td>\n",
       "    </tr>\n",
       "    <tr>\n",
       "      <th>FN</th>\n",
       "      <td>48.000000</td>\n",
       "      <td>40.000000</td>\n",
       "      <td>62.000000</td>\n",
       "      <td>58.000000</td>\n",
       "      <td>26.000000</td>\n",
       "    </tr>\n",
       "    <tr>\n",
       "      <th>Accuracy</th>\n",
       "      <td>0.700000</td>\n",
       "      <td>0.703333</td>\n",
       "      <td>0.676667</td>\n",
       "      <td>0.683333</td>\n",
       "      <td>0.733333</td>\n",
       "    </tr>\n",
       "    <tr>\n",
       "      <th>Sensitivity</th>\n",
       "      <td>0.407407</td>\n",
       "      <td>0.817352</td>\n",
       "      <td>0.234568</td>\n",
       "      <td>0.735160</td>\n",
       "      <td>0.881279</td>\n",
       "    </tr>\n",
       "    <tr>\n",
       "      <th>Specificity</th>\n",
       "      <td>0.808219</td>\n",
       "      <td>0.395062</td>\n",
       "      <td>0.840183</td>\n",
       "      <td>0.543210</td>\n",
       "      <td>0.333333</td>\n",
       "    </tr>\n",
       "  </tbody>\n",
       "</table>\n",
       "</div>"
      ],
      "text/plain": [
       "             Adaptive Boosting  Decision Tree  KNN Classification  \\\n",
       "TP                   33.000000     179.000000           19.000000   \n",
       "TN                  177.000000      32.000000          184.000000   \n",
       "FP                   42.000000      49.000000           35.000000   \n",
       "FN                   48.000000      40.000000           62.000000   \n",
       "Accuracy              0.700000       0.703333            0.676667   \n",
       "Sensitivity           0.407407       0.817352            0.234568   \n",
       "Specificity           0.808219       0.395062            0.840183   \n",
       "\n",
       "             Naive Bayes  Random Forest  \n",
       "TP            161.000000     193.000000  \n",
       "TN             44.000000      27.000000  \n",
       "FP             37.000000      54.000000  \n",
       "FN             58.000000      26.000000  \n",
       "Accuracy        0.683333       0.733333  \n",
       "Sensitivity     0.735160       0.881279  \n",
       "Specificity     0.543210       0.333333  "
      ]
     },
     "execution_count": 110,
     "metadata": {},
     "output_type": "execute_result"
    }
   ],
   "source": [
    "info = pd.DataFrame(main_df)\n",
    "\n",
    "info"
   ]
  },
  {
   "cell_type": "code",
   "execution_count": null,
   "metadata": {},
   "outputs": [],
   "source": []
  },
  {
   "cell_type": "code",
   "execution_count": null,
   "metadata": {},
   "outputs": [],
   "source": []
  },
  {
   "cell_type": "code",
   "execution_count": 142,
   "metadata": {},
   "outputs": [],
   "source": [
    "from sklearn.metrics import auc\n",
    "\n",
    "auc_dt= auc(fp_dt,tp_dt)\n",
    "\n",
    "auc_rf = auc(fp_rf,tp_rf)\n",
    "\n",
    "auc_ab = auc(fp_ab,tp_ab)\n",
    "\n",
    "auc_knn = auc(fp_knn,tp_knn)\n",
    "\n",
    "auc_nb = auc(fp_nb,tp_nb)"
   ]
  },
  {
   "cell_type": "code",
   "execution_count": 148,
   "metadata": {},
   "outputs": [
    {
     "data": {
      "text/plain": [
       "<matplotlib.legend.Legend at 0x1c6db78b898>"
      ]
     },
     "execution_count": 148,
     "metadata": {},
     "output_type": "execute_result"
    },
    {
     "data": {
      "image/png": "[encoded data removed]",
      "text/plain": [
       "<matplotlib.figure.Figure at 0x1c6da015470>"
      ]
     },
     "metadata": {},
     "output_type": "display_data"
    }
   ],
   "source": [
    "plt.figure(figsize=(12,12))\n",
    "plt.plot(fp_dt,tp_dt)\n",
    "plt.plot(fp_rf,tp_rf)\n",
    "plt.plot(fp_ab,tp_ab)\n",
    "plt.plot(fp_knn,tp_knn)\n",
    "plt.plot(fp_nb,tp_nb)\n",
    "plt.legend(['DecisionTree - AUC: %.3f, Acc: 69.6, Sen: 81' % auc_dt,\n",
    "\n",
    "           'Random Forest - AUC: %.3f, Acc: 73.3, Sen: 88' % auc_rf,\n",
    "\n",
    "           'AdaBoost - AUC: %.3f, Acc: 69.3, Sen: 81' % auc_ab,\n",
    "\n",
    "           'KNN - AUC: %.3f, Acc: 67.6, Sen: 84' % auc_knn,\n",
    "\n",
    "           'Naive Bayes - AUC: %.3f, Acc: 68.3, Sen: 84' % auc_nb])"
   ]
  },
  {
   "cell_type": "code",
   "execution_count": null,
   "metadata": {},
   "outputs": [],
   "source": []
  },
  {
   "cell_type": "markdown",
   "metadata": {},
   "source": [
    "# Random forest is having highest accuracy, higest sensitivity and lowest specificity"
   ]
  },
  {
   "cell_type": "code",
   "execution_count": null,
   "metadata": {},
   "outputs": [],
   "source": []
  }
 ],
 "metadata": {
  "kernelspec": {
   "display_name": "Python 3",
   "language": "python",
   "name": "python3"
  },
  "language_info": {
   "codemirror_mode": {
    "name": "ipython",
    "version": 3
   },
   "file_extension": ".py",
   "mimetype": "text/x-python",
   "name": "python",
   "nbconvert_exporter": "python",
   "pygments_lexer": "ipython3",
   "version": "3.6.4"
  }
 },
 "nbformat": 4,
 "nbformat_minor": 2
}
